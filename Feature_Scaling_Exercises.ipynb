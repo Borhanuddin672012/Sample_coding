{
  "nbformat": 4,
  "nbformat_minor": 0,
  "metadata": {
    "colab": {
      "name": "Feature Scaling_Exercises.ipynb",
      "provenance": [],
      "authorship_tag": "ABX9TyP6seMs4oZULO2ojCa+r2Jz",
      "include_colab_link": true
    },
    "kernelspec": {
      "name": "python3",
      "display_name": "Python 3"
    }
  },
  "cells": [
    {
      "cell_type": "markdown",
      "metadata": {
        "id": "view-in-github",
        "colab_type": "text"
      },
      "source": [
        "<a href=\"https://colab.research.google.com/github/Borhanuddin672012/Sample_coding/blob/main/Feature_Scaling_Exercises.ipynb\" target=\"_parent\"><img src=\"https://colab.research.google.com/assets/colab-badge.svg\" alt=\"Open In Colab\"/></a>"
      ]
    },
    {
      "cell_type": "markdown",
      "metadata": {
        "id": "u5y4f0MH6h1_"
      },
      "source": [
        "# **Feature Scaling – Standardization Vs Normalization Explain **\r\n",
        "\r\n",
        "\r\n",
        "[indianaiproduction](https://indianaiproduction.com/feature-scaling-standardization-normalization)\r\n",
        "\r\n",
        "[YouTube](https://www.youtube.com/watch?v=85je4aCdYcE&list=PLfP3JxW-T70HLRjrFP88sWlIDUlKahx8A&index=86)"
      ]
    },
    {
      "cell_type": "markdown",
      "metadata": {
        "id": "Z2s64sdd7Izi"
      },
      "source": [
        "**What is Feature Scaling?**\r\n",
        "\r\n",
        "•Feature Scaling is a method to scale numeric features in the same scale or range (like:-1 to 1,  0 to 1).\r\n",
        "\r\n",
        "•This is the last step involved in Data Preprocessing and before ML model training.\r\n",
        "\r\n",
        "•It is also called as data normalization.\r\n",
        "\r\n",
        "•We apply Feature Scaling on independent variables.\r\n",
        "\r\n",
        "•We fit feature scaling with train data and transform on train and test data.\r\n",
        "\r\n",
        "# **Why Feature Scaling?**\r\n",
        "\r\n",
        "•The scale of raw features is different according to its units.\r\n",
        "\r\n",
        "•Machine Learning algorithms can’t understand features units, understand only numbers.\r\n",
        "\r\n",
        "•Ex: If hight 140cm and 8.2feet\r\n",
        "\r\n",
        "•ML Algorithms understand numbers then 140 > 8.2\r\n",
        "\r\n",
        "# Which ML Algorithms Required Feature Scaling?\r\n",
        "\r\n",
        "\r\n",
        "**Those Algorithms Calculate Distance **\r\n",
        "\r\n",
        "•K-Nearest Neighbors (KNN)\r\n",
        "\r\n",
        "•K-Means\r\n",
        "\r\n",
        "•Support Vector Machine (SVM)\r\n",
        "\r\n",
        "•Principal Component Analysis(PCA)\r\n",
        "\r\n",
        "•Linear Discriminant Analysis\r\n",
        "\r\n",
        "**Gradient Descent Based Algorithms**\r\n",
        "\r\n",
        "\r\n",
        "•Linear Regression,\r\n",
        "\r\n",
        "•Logistic Regression\r\n",
        "\r\n",
        "•Neural Network\r\n",
        "\r\n",
        "**Tree Based Algorithms not required Feature scaling**\r\n",
        "\r\n",
        "•Decision Tree, Random Forest, XGBoost\r\n",
        "\r\n",
        "**Types of Feature Scaling**\r\n",
        "\r\n",
        "1) Min Max Scaler\r\n",
        "\r\n",
        "•2) Standard Scaler\r\n",
        "\r\n",
        "•3) Max Abs Scaler\r\n",
        "\r\n",
        "•4) Robust Scaler\r\n",
        "\r\n",
        "•5) Quantile Transformer Scaler\r\n",
        "\r\n",
        "•6) Power Transformer Scaler\r\n",
        "\r\n",
        "•7) Unit Vector Scaler\r\n",
        "\r\n",
        "Standardizati"
      ]
    },
    {
      "cell_type": "markdown",
      "metadata": {
        "id": "Gt-iAMqj8HU8"
      },
      "source": [
        "# **Standardization vs Normalization Explain in Detail**\r\n",
        "\r\n",
        "**What is Standardization?**\r\n",
        "\r\n",
        "•Standardization rescale the feature such as mean(μ) = 0 and standard deviation (σ) = 1.\r\n",
        "\r\n",
        "•The result of standardization is Z called as Z-score normalization.\r\n",
        "\r\n",
        "• If data follow a normal distribution (gaussian distribution).\r\n",
        "\r\n",
        "• If the original distribution is normal, then the standardized distribution will be normal.\r\n",
        "\r\n",
        "• If the original distribution is skewed, then the standardized distribution of the variable will also be skewed."
      ]
    },
    {
      "cell_type": "markdown",
      "metadata": {
        "id": "907rNtAb8QoM"
      },
      "source": [
        "# **What is Normalization?**\r\n",
        "\r\n",
        "•Normalization rescale the feature in fixed range between 0 to 1.\r\n",
        "\r\n",
        "•Normalization also called as Min-Max Scaling.\r\n",
        "\r\n",
        "•If data doesn’t follow normal distribution (Gaussian distribution).\r\n",
        "\r\n",
        "**Standardization  vs Normalization**\r\n",
        "\r\n",
        "•There is no any thumb rule to use Standardization or Normalization for special ML algo.\r\n",
        "\r\n",
        "•But mostly Standardization use for clustering analyses, Principal Component Analysis(PCA).\r\n",
        "\r\n",
        "•Normalization prefers for Image processing because of pixel intensity between 0 to 255, neural network algorithm requires data in scale 0-1, K-Nearest Neighbors."
      ]
    }
  ]
}