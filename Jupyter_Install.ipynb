{
  "nbformat": 4,
  "nbformat_minor": 0,
  "metadata": {
    "colab": {
      "name": "Jupyter_Install.ipynb",
      "provenance": [],
      "authorship_tag": "ABX9TyMe8Mrza1eBC74uVWX+wkqs",
      "include_colab_link": true
    },
    "kernelspec": {
      "name": "python3",
      "display_name": "Python 3"
    },
    "language_info": {
      "name": "python"
    }
  },
  "cells": [
    {
      "cell_type": "markdown",
      "metadata": {
        "id": "view-in-github",
        "colab_type": "text"
      },
      "source": [
        "<a href=\"https://colab.research.google.com/github/Borhanuddin672012/Sample_coding/blob/master/Jupyter_Install.ipynb\" target=\"_parent\"><img src=\"https://colab.research.google.com/assets/colab-badge.svg\" alt=\"Open In Colab\"/></a>"
      ]
    },
    {
      "cell_type": "markdown",
      "metadata": {
        "id": "Cf53Fdh7Qcuf"
      },
      "source": [
        "[Prophet / fbprophet package in Python](https://stackoverflow.com/questions/50808322/prophet-fbprophet-package-in-python)"
      ]
    },
    {
      "cell_type": "markdown",
      "metadata": {
        "id": "_e8Q77nBP90e"
      },
      "source": [
        "\n",
        "\n",
        "[ERROR:fbprophet.plot:Importing matplotlib failed. Plotting will not work](https://github.com/facebook/prophet/issues/832)\n",
        "\n"
      ]
    },
    {
      "cell_type": "code",
      "metadata": {
        "id": "FDAxWjAXPRJo"
      },
      "source": [
        ""
      ],
      "execution_count": null,
      "outputs": []
    }
  ]
}